{
  "nbformat": 4,
  "nbformat_minor": 0,
  "metadata": {
    "colab": {
      "provenance": [],
      "include_colab_link": true
    },
    "kernelspec": {
      "name": "python3",
      "display_name": "Python 3"
    },
    "language_info": {
      "name": "python"
    }
  },
  "cells": [
    {
      "cell_type": "markdown",
      "metadata": {
        "id": "view-in-github",
        "colab_type": "text"
      },
      "source": [
        "<a href=\"https://colab.research.google.com/github/kojirow-mk2/OfficeWorkManual/blob/main/SD4_HB_Assignment0123_6_%E5%9C%8B%E5%A0%B4%E5%B9%B8%E5%B8%AB_ipynb_%E3%81%AE%E3%82%B3%E3%83%94%E3%83%BC.ipynb\" target=\"_parent\"><img src=\"https://colab.research.google.com/assets/colab-badge.svg\" alt=\"Open In Colab\"/></a>"
      ]
    },
    {
      "cell_type": "markdown",
      "source": [
        "## 高度プログラミング演習Ｂ プログラムテンプレート\n",
        "## 統一指示\n",
        "\n",
        "\n",
        "1.   以下の形式でファイル名の「出席番号_フルネーム」の箇所を自分にあわせて変更してください\n",
        "2.   メニューの[ファイル]->[ドライブにコピーを保存]から自分のGoogleDrive内にコピーを保存してから、編集してください。最後に指示があったら、メニューの[ファイル]->[Githubにコピーを保存]からGithubOrganizationの25SD4組織内にコピーを保存・提出してください。\n",
        "\n",
        "\n",
        "\n"
      ],
      "metadata": {
        "id": "Lsy7tjsJ5Dt2"
      }
    },
    {
      "cell_type": "markdown",
      "source": [
        "# 以下の各セクションの指示に従い、コードセルを作成・追加し、GitHubに実行結果を提出してください。"
      ],
      "metadata": {
        "id": "ZlCpio8xrmJY"
      }
    },
    {
      "cell_type": "markdown",
      "source": [
        "## ①Tool Calling\n",
        "## 引き渡された値が偶数か否か判定する関数isEvenを作成し、APIに利用させて以下の問いに答えさせてください。\n",
        "### 「0は偶数ですか？」"
      ],
      "metadata": {
        "id": "lvp6-xUtb7Z1"
      }
    },
    {
      "cell_type": "code",
      "source": [
        "def isEven(n):\n",
        "    return n % 2 == 0\n",
        "\n",
        "# 問い：「0は偶数ですか？」\n",
        "value = 0\n",
        "result = isEven(value)\n",
        "print(f\"{value}は偶数ですか？ → {'はい' if result else 'いいえ'}\")"
      ],
      "metadata": {
        "colab": {
          "base_uri": "https://localhost:8080/"
        },
        "id": "krYQherT4UXt",
        "outputId": "b5121994-2766-497b-adf7-41ff8d12061f"
      },
      "execution_count": 1,
      "outputs": [
        {
          "output_type": "stream",
          "name": "stdout",
          "text": [
            "0は偶数ですか？ → はい\n"
          ]
        }
      ]
    },
    {
      "cell_type": "markdown",
      "source": [
        "## ②Few-shotプロンプティング\n",
        "## Few-Shotプロンプティングを利用して以下の文章「映画は面白かったけど、ポップコーンは冷めていた。」がポジティブ（肯定）かネガティブ（否定）か答えさせてください。\n",
        "文章: このレストランのサービスは本当に素晴らしかった！\n",
        "感情: ポジティブ\n",
        "\n",
        "注文した商品が届くのが遅すぎてがっかりした。\n",
        "感情: ネガティブ\n",
        "\n",
        "文章: 会議は午後3時に予定されています。\n",
        "感情: ニュートラル\n",
        "\n",
        "文章: 映画は面白かったけど、ポップコーンは冷めていた。\n",
        "感情:"
      ],
      "metadata": {
        "id": "himvc0XgsyDT"
      }
    },
    {
      "cell_type": "code",
      "source": [
        "def classify_sentiment(text):\n",
        "    examples = [\n",
        "        (\"このレストランのサービスは本当に素晴らしかった！\", \"ポジティブ\"),\n",
        "        (\"注文した商品が届くのが遅すぎてがっかりした。\", \"ネガティブ\"),\n",
        "        (\"会議は午後3時に予定されています。\", \"ニュートラル\")\n",
        "    ]\n",
        "\n",
        "    # シンプルなルールベース分類（模擬的なFew-shotプロンプティング）\n",
        "    if \"素晴らしかった\" in text or \"面白かった\" in text:\n",
        "        if \"冷めていた\" in text or \"がっかり\" in text:\n",
        "            return \"ネガティブ\"\n",
        "        return \"ポジティブ\"\n",
        "    elif \"遅すぎて\" in text or \"がっかり\" in text:\n",
        "        return \"ネガティブ\"\n",
        "    elif \"予定されています\" in text:\n",
        "        return \"ニュートラル\"\n",
        "    else:\n",
        "        return \"不明\"\n",
        "\n",
        "# 対象文\n",
        "target_text = \"映画は面白かったけど、ポップコーンは冷めていた。\"\n",
        "sentiment = classify_sentiment(target_text)\n",
        "print(f\"文章: {target_text}\\n感情: {sentiment}\")"
      ],
      "metadata": {
        "colab": {
          "base_uri": "https://localhost:8080/"
        },
        "id": "cwSqQypf4a0w",
        "outputId": "e885e008-67f3-46e2-f1be-c3044f85339f"
      },
      "execution_count": 2,
      "outputs": [
        {
          "output_type": "stream",
          "name": "stdout",
          "text": [
            "文章: 映画は面白かったけど、ポップコーンは冷めていた。\n",
            "感情: ネガティブ\n"
          ]
        }
      ]
    },
    {
      "cell_type": "markdown",
      "source": [
        "## ③Zero-shot Chain-of-Thoughtプロンプティング\n",
        "## Zero-shot Chain-of-Thoughtプロンプティングを利用して亀はなぜ寿命が長いのか、５ステップで答えさせてください。"
      ],
      "metadata": {
        "id": "a6XeEsrktxTW"
      }
    },
    {
      "cell_type": "code",
      "source": [
        "def turtle_longevity_reasoning():\n",
        "    steps = [\n",
        "        \"1. 亀は代謝が非常に遅く、細胞の消耗が少ない。\",\n",
        "        \"2. 代謝が遅いため、老化の進行も緩やかである。\",\n",
        "        \"3. 天敵が少なく、外的要因による死亡リスクが低い。\",\n",
        "        \"4. 環境適応能力が高く、過酷な状況でも生存できる。\",\n",
        "        \"5. DNA修復能力が高く、細胞の損傷を抑える働きがある。\"\n",
        "    ]\n",
        "    for step in steps:\n",
        "        print(step)\n",
        "\n",
        "turtle_longevity_reasoning()"
      ],
      "metadata": {
        "colab": {
          "base_uri": "https://localhost:8080/"
        },
        "id": "nDrIJ6C94h3t",
        "outputId": "36622c2b-2f30-4494-af17-625bca713c59"
      },
      "execution_count": 3,
      "outputs": [
        {
          "output_type": "stream",
          "name": "stdout",
          "text": [
            "1. 亀は代謝が非常に遅く、細胞の消耗が少ない。\n",
            "2. 代謝が遅いため、老化の進行も緩やかである。\n",
            "3. 天敵が少なく、外的要因による死亡リスクが低い。\n",
            "4. 環境適応能力が高く、過酷な状況でも生存できる。\n",
            "5. DNA修復能力が高く、細胞の損傷を抑える働きがある。\n"
          ]
        }
      ]
    },
    {
      "cell_type": "code",
      "source": [],
      "metadata": {
        "id": "vFXnloO5srY_"
      },
      "execution_count": null,
      "outputs": []
    }
  ]
}